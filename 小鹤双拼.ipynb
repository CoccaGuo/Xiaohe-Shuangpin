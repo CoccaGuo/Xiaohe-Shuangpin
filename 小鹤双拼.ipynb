{
 "cells": [
  {
   "cell_type": "markdown",
   "metadata": {},
   "source": [
    "# 小鹤双拼方案\n",
    "![](https://help.flypy.com/assets/img/hejp.png)"
   ]
  },
  {
   "cell_type": "code",
   "execution_count": 84,
   "metadata": {},
   "outputs": [],
   "source": [
    "PINYIN_TO_XIAOHE = {\n",
    "    'iu': 'q',\n",
    "    'ei': 'w',\n",
    "    'uan': 'r', \n",
    "    'ue': 't', \n",
    "    've': 't', \n",
    "    'un': 'y', \n",
    "    'uo': 'o', \n",
    "    'ie': 'p', \n",
    "    'ong': 's', \n",
    "    'iong': 's', \n",
    "    'ai': 'd', \n",
    "    'en': 'f', \n",
    "    'eng': 'g', \n",
    "    'ang': 'h', \n",
    "    'an': 'j', \n",
    "    'ing': 'k', \n",
    "    'uai': 'k', \n",
    "    'iang': 'l', \n",
    "    'uang': 'l', \n",
    "    'ou': 'z', \n",
    "    'ia': 'x', \n",
    "    'ua': 'x', \n",
    "    'ao': 'c', \n",
    "    'ui': 'v', \n",
    "    'in': 'b', \n",
    "    'iao': 'n', \n",
    "    'ian': 'm',\n",
    "\n",
    "    'sh': 'u', \n",
    "    'ch': 'i', \n",
    "    'zh': 'v',\n",
    "\n",
    "    'a': 'aa',\n",
    "    'er': 'er', \n",
    "    'en': 'en', \n",
    "    'o': 'oo', \n",
    "    'n': 'en', \n",
    "\n",
    "}\n",
    "\n",
    "VOWELS = ['a', 'o', 'e', 'i', 'u', 'v']"
   ]
  },
  {
   "cell_type": "code",
   "execution_count": 85,
   "metadata": {},
   "outputs": [],
   "source": [
    "#!pip install pypinyin\n",
    "from pypinyin import lazy_pinyin\n",
    "import matplotlib.pyplot as plt"
   ]
  },
  {
   "cell_type": "code",
   "execution_count": 86,
   "metadata": {},
   "outputs": [
    {
     "name": "stdout",
     "output_type": "stream",
     "text": [
      "['tian', 'yu', 'liu', 'fang']\n"
     ]
    }
   ],
   "source": [
    "test_string = \"天雨流芳\"\n",
    "print(lazy_pinyin(test_string))"
   ]
  },
  {
   "cell_type": "code",
   "execution_count": 87,
   "metadata": {},
   "outputs": [],
   "source": [
    "def pinyin2xiaohe(string: str):\n",
    "    for char in string:\n",
    "        if char in VOWELS:\n",
    "            leading_vowel = char\n",
    "            break\n",
    "    leading_vowel_index = string.index(leading_vowel)\n",
    "    pre = string[:leading_vowel_index]\n",
    "    post = string[leading_vowel_index:]\n",
    "    if len(pre) == 2:\n",
    "        pre = PINYIN_TO_XIAOHE[pre]\n",
    "    if len(post) > 1:\n",
    "        post = PINYIN_TO_XIAOHE[post]\n",
    "    return pre + post  "
   ]
  },
  {
   "cell_type": "code",
   "execution_count": 88,
   "metadata": {},
   "outputs": [
    {
     "name": "stdout",
     "output_type": "stream",
     "text": [
      "tm, yu, lq, fh, "
     ]
    }
   ],
   "source": [
    "for char in test_string:\n",
    "    xiaohe = pinyin2xiaohe(lazy_pinyin(char)[0])\n",
    "    print(xiaohe, end=', ')"
   ]
  },
  {
   "cell_type": "code",
   "execution_count": 89,
   "metadata": {},
   "outputs": [],
   "source": [
    "def string2xiaohe(string: str):\n",
    "    xiaohe_list = []\n",
    "    for char in string:\n",
    "        try:\n",
    "            py = lazy_pinyin(char)[0]\n",
    "            xiaohe_list.append(pinyin2xiaohe(py))\n",
    "        except:\n",
    "            xiaohe_list.append(char)\n",
    "    return xiaohe_list"
   ]
  },
  {
   "cell_type": "code",
   "execution_count": 90,
   "metadata": {},
   "outputs": [
    {
     "name": "stdout",
     "output_type": "stream",
     "text": [
      "['tm', 'ro', 'yz', 'qk', 'tm', 'yi', 'lc', '，', 'ren', 'jm', 'vg', 'dc', 'ui', 'ch', 'sh', '。']\n"
     ]
    }
   ],
   "source": [
    "long_test_string = \"天若有情天亦老，人间正道是沧桑。\"\n",
    "print(string2xiaohe(long_test_string))"
   ]
  },
  {
   "cell_type": "markdown",
   "metadata": {},
   "source": [
    "## 统计按键使用分布"
   ]
  },
  {
   "cell_type": "code",
   "execution_count": 91,
   "metadata": {},
   "outputs": [
    {
     "name": "stdout",
     "output_type": "stream",
     "text": [
      "《海底两万里》\n",
      "作者：[法]儒勒·凡尔纳\n",
      "\n",
      "第一章　飞走的暗礁\n",
      "\n",
      "人们一定还记得1866年海上发生的一件离奇的、神秘的、无法解释的怪事。且不说当时哄动沿海居民和世界舆论的各种传闻，这里只说一般航海人员特别激动的心情。欧美的进出口商人、船长和船主、各国的海军官佐以及这两大洲的各国政府都非常注意这件事。\n",
      "\n",
      "这事大体是这样：不久以前，好些大船在海上碰见了一一个“庞然大物”，一个很长的物体，形状很像纺锤，\n"
     ]
    }
   ],
   "source": [
    "with open('海底两万里.txt', 'r', encoding='utf8') as f:\n",
    "    s = f.read()\n",
    "print(s[:200])"
   ]
  },
  {
   "cell_type": "code",
   "execution_count": 92,
   "metadata": {},
   "outputs": [
    {
     "name": "stdout",
     "output_type": "stream",
     "text": [
      "海底两万里作者法儒勒凡尔纳第一章飞走的暗礁人们一定还记得年海上发生的一件离奇的神秘的无法解释的怪事且不说当时哄动沿海居民和世界舆论的各种传闻这里只说一般航海人员特别激动的心情欧美的进出口商人船长和船主各国的海军官佐以及这两大洲的各国政府都非常注意这件事这事大体是这样不久以前好些大船在海上碰见了一一个庞然大物一个很长的物体形状很像纺锤有时发出磷光它的体积比鲸鱼大得多行动起来也比鲸鱼快得多关于这个东西\n"
     ]
    }
   ],
   "source": [
    "s = \"\".join(list(filter(lambda c: '\\u4e00' <= c <= '\\u9fff', s)))\n",
    "print(s[:200])"
   ]
  },
  {
   "cell_type": "code",
   "execution_count": 93,
   "metadata": {},
   "outputs": [
    {
     "name": "stdout",
     "output_type": "stream",
     "text": [
      "['hd', 'di', 'll', 'wj', 'li', 'zo', 've', 'fa', 'ru', 'lw']\n"
     ]
    }
   ],
   "source": [
    "result_list = string2xiaohe(s)\n",
    "print(result_list[:10])\n",
    "xiaohe_alpha = \"\".join(result_list)"
   ]
  },
  {
   "cell_type": "code",
   "execution_count": 105,
   "metadata": {},
   "outputs": [
    {
     "name": "stdout",
     "output_type": "stream",
     "text": [
      "[('i', 38223), ('d', 38045), ('e', 37362), ('u', 32920), ('y', 19962), ('h', 19150), ('j', 19108), ('n', 18706), ('v', 18319), ('l', 16831), ('m', 16523), ('w', 15477), ('z', 15058), ('o', 13371), ('b', 13149), ('x', 12483), ('k', 11805), ('g', 11790), ('s', 11745), ('a', 11730), ('c', 10171), ('r', 9685), ('t', 9443), ('q', 8784), ('p', 4333), ('f', 3966), ('嗯', 3)]\n"
     ]
    }
   ],
   "source": [
    "rlt = {} \n",
    "for i in xiaohe_alpha: \n",
    "    if i not in rlt.keys():\n",
    "         rlt[i] = xiaohe_alpha.count(i)\n",
    "rlt= sorted(rlt.items(), key=lambda d:d[1], reverse = True)\n",
    "print(rlt)"
   ]
  },
  {
   "cell_type": "code",
   "execution_count": 113,
   "metadata": {},
   "outputs": [
    {
     "data": {
      "text/plain": [
       "<BarContainer object of 27 artists>"
      ]
     },
     "execution_count": 113,
     "metadata": {},
     "output_type": "execute_result"
    },
    {
     "name": "stderr",
     "output_type": "stream",
     "text": [
      "C:\\Users\\Cocca-PC\\AppData\\Local\\Programs\\Python\\Python38\\lib\\site-packages\\matplotlib\\backends\\backend_agg.py:214: RuntimeWarning: Glyph 21999 missing from current font.\n",
      "  font.set_text(s, 0.0, flags=flags)\n",
      "C:\\Users\\Cocca-PC\\AppData\\Local\\Programs\\Python\\Python38\\lib\\site-packages\\matplotlib\\backends\\backend_agg.py:183: RuntimeWarning: Glyph 21999 missing from current font.\n",
      "  font.set_text(s, 0, flags=flags)\n"
     ]
    },
    {
     "data": {
      "image/png": "[encoded data removed]",
      "text/plain": [
       "<Figure size 432x288 with 1 Axes>"
      ]
     },
     "metadata": {
      "needs_background": "light"
     },
     "output_type": "display_data"
    }
   ],
   "source": [
    "x, y = list(zip(*rlt))\n",
    "plt.bar(x, y)"
   ]
  }
 ],
 "metadata": {
  "interpreter": {
   "hash": "8663027a89f3e4d2d84f2a7bf713fee030777de3da599ecf72ef17e7aa28c2f5"
  },
  "kernelspec": {
   "display_name": "Python 3.8.8 64-bit",
   "language": "python",
   "name": "python3"
  },
  "language_info": {
   "codemirror_mode": {
    "name": "ipython",
    "version": 3
   },
   "file_extension": ".py",
   "mimetype": "text/x-python",
   "name": "python",
   "nbconvert_exporter": "python",
   "pygments_lexer": "ipython3",
   "version": "3.8.8"
  },
  "orig_nbformat": 4
 },
 "nbformat": 4,
 "nbformat_minor": 2
}
